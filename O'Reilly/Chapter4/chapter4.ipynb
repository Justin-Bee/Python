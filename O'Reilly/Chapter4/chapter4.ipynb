{
 "cells": [
  {
   "cell_type": "markdown",
   "id": "18249dee",
   "metadata": {},
   "source": [
    "## Chapter 4"
   ]
  },
  {
   "cell_type": "markdown",
   "id": "df91ff1a",
   "metadata": {},
   "source": []
  }
 ],
 "metadata": {
  "language_info": {
   "name": "python"
  }
 },
 "nbformat": 4,
 "nbformat_minor": 5
}
