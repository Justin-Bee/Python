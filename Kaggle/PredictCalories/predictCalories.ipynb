{
 "cells": [
  {
   "cell_type": "markdown",
   "id": "c7707e4f",
   "metadata": {},
   "source": [
    "## Kaggle S5E5 Predict Calories"
   ]
  },
  {
   "cell_type": "code",
   "execution_count": 5,
   "id": "ad3f7a11",
   "metadata": {},
   "outputs": [
    {
     "data": {
      "text/plain": [
       "<bound method NDFrame.head of             id     Sex  Age  Height  Weight  Duration  Heart_Rate  Body_Temp\n",
       "0       750000    male   45   177.0    81.0       7.0        87.0       39.8\n",
       "1       750001    male   26   200.0    97.0      20.0       101.0       40.5\n",
       "2       750002  female   29   188.0    85.0      16.0       102.0       40.4\n",
       "3       750003  female   39   172.0    73.0      20.0       107.0       40.6\n",
       "4       750004  female   30   173.0    67.0      16.0        94.0       40.5\n",
       "...        ...     ...  ...     ...     ...       ...         ...        ...\n",
       "249995  999995  female   56   159.0    62.0       6.0        85.0       39.4\n",
       "249996  999996    male   32   202.0   101.0       3.0        84.0       38.4\n",
       "249997  999997  female   31   164.0    64.0      14.0        98.0       40.1\n",
       "249998  999998  female   62   158.0    61.0      25.0       106.0       40.7\n",
       "249999  999999    male   31   199.0    96.0      15.0        98.0       39.9\n",
       "\n",
       "[250000 rows x 8 columns]>"
      ]
     },
     "execution_count": 5,
     "metadata": {},
     "output_type": "execute_result"
    }
   ],
   "source": [
    "import numpy as np\n",
    "import pandas as pd\n",
    "import matplotlib.pyplot as plt\n",
    "\n",
    "test_data = pd.read_csv(\"test.csv\")\n",
    "train_data = pd.read_csv(\"train.csv\")\n",
    "\n",
    "test_data.head"
   ]
  },
  {
   "cell_type": "code",
   "execution_count": null,
   "id": "c61b4e6a",
   "metadata": {},
   "outputs": [],
   "source": []
  }
 ],
 "metadata": {
  "kernelspec": {
   "display_name": "Python 3",
   "language": "python",
   "name": "python3"
  },
  "language_info": {
   "codemirror_mode": {
    "name": "ipython",
    "version": 3
   },
   "file_extension": ".py",
   "mimetype": "text/x-python",
   "name": "python",
   "nbconvert_exporter": "python",
   "pygments_lexer": "ipython3",
   "version": "3.12.7"
  }
 },
 "nbformat": 4,
 "nbformat_minor": 5
}
