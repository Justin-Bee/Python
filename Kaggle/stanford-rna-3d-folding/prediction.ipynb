{
 "cells": [
  {
   "cell_type": "code",
   "execution_count": 10,
   "metadata": {},
   "outputs": [
    {
     "name": "stdout",
     "output_type": "stream",
     "text": [
      "(137095, 3)\n",
      "(137095, 3)\n"
     ]
    },
    {
     "name": "stderr",
     "output_type": "stream",
     "text": [
      "C:\\Users\\Bee\\AppData\\Local\\Temp\\ipykernel_15664\\524990754.py:41: SettingWithCopyWarning: \n",
      "A value is trying to be set on a copy of a slice from a DataFrame\n",
      "\n",
      "See the caveats in the documentation: https://pandas.pydata.org/pandas-docs/stable/user_guide/indexing.html#returning-a-view-versus-a-copy\n",
      "  X.fillna(0, inplace=True)\n",
      "C:\\Users\\Bee\\AppData\\Local\\Temp\\ipykernel_15664\\524990754.py:42: SettingWithCopyWarning: \n",
      "A value is trying to be set on a copy of a slice from a DataFrame\n",
      "\n",
      "See the caveats in the documentation: https://pandas.pydata.org/pandas-docs/stable/user_guide/indexing.html#returning-a-view-versus-a-copy\n",
      "  y.fillna(0, inplace=True)\n",
      "C:\\Users\\Bee\\AppData\\Local\\Temp\\ipykernel_15664\\524990754.py:49: SettingWithCopyWarning: \n",
      "A value is trying to be set on a copy of a slice from a DataFrame.\n",
      "Try using .loc[row_indexer,col_indexer] = value instead\n",
      "\n",
      "See the caveats in the documentation: https://pandas.pydata.org/pandas-docs/stable/user_guide/indexing.html#returning-a-view-versus-a-copy\n",
      "  X['temporal_cutoff'] = X['temporal_cutoff'].apply(convert_date_to_numeric)\n"
     ]
    },
    {
     "name": "stdout",
     "output_type": "stream",
     "text": [
      "Accuracy of logistic regression classifier on test set: 0.84\n"
     ]
    }
   ],
   "source": [
    "import numpy as np\n",
    "import pandas as pd\n",
    "from sklearn.model_selection import GridSearchCV\n",
    "from sklearn.model_selection import train_test_split\n",
    "from sklearn.linear_model import LinearRegression\n",
    "from sklearn.preprocessing import StandardScaler, LabelEncoder\n",
    "from sklearn.feature_extraction.text import TfidfVectorizer\n",
    "from keras.preprocessing.sequence import pad_sequences\n",
    "from datetime import datetime\n",
    "\n",
    "test_seq = pd.read_csv('test_sequences.csv')\n",
    "train_labels = pd.read_csv('train_labels.csv')\n",
    "train_seq = pd.read_csv('train_sequences.csv')\n",
    "val_labels = pd.read_csv('validation_labels.csv')\n",
    "val_seq = pd.read_csv('validation_sequences.csv')\n",
    "\n",
    "base_encoder = LabelEncoder()\n",
    "base_encoder.fit(['A', 'U', 'G', 'C', 'N'])\n",
    "\n",
    "def clean_and_encode_sequence(seq):\n",
    "    clean_seq = seq.replace(\"-\", \"\").replace(\"X\", \"N\") \n",
    "    return np.array(base_encoder.transform(list(clean_seq)))  \n",
    "\n",
    "train_seq[\"encoded_seq\"] = train_seq[\"sequence\"].apply(clean_and_encode_sequence)\n",
    "train_labels[\"target_base\"] = train_labels[\"ID\"].apply(lambda x: \"_\".join(x.split(\"_\")[:2]))\n",
    "\n",
    "merged_data = train_seq.merge(\n",
    "    train_labels, left_on=\"target_id\", right_on=\"target_base\"\n",
    ")\n",
    "\n",
    "merged_data.drop(columns=[\"target_base\"], inplace=True)\n",
    "\n",
    "merged_data.head()\n",
    "\n",
    "X = merged_data[['encoded_seq','temporal_cutoff','description']]\n",
    "y = train_labels[['x_1', 'y_1', 'z_1']]\n",
    "\n",
    "print(y.shape)\n",
    "print(X.shape)\n",
    "\n",
    "X.fillna(0, inplace=True)\n",
    "y.fillna(0, inplace=True)\n",
    "\n",
    "def convert_date_to_numeric(date_str):\n",
    "    \"\"\"Convert date string to numerical timestamp.\"\"\"\n",
    "    return datetime.strptime(date_str, \"%Y-%m-%d\").timestamp()\n",
    "\n",
    "# Convert `temporal_cutoff` to numerical values\n",
    "X['temporal_cutoff'] = X['temporal_cutoff'].apply(convert_date_to_numeric)\n",
    "# Convert sequences into a fixed-length numerical representation\n",
    "max_seq_length = max(X['encoded_seq'].apply(len))  # Find longest sequence\n",
    "X = pad_sequences(X['encoded_seq'], maxlen=max_seq_length, padding='post', dtype='int32')\n",
    "\n",
    "\n",
    "X_train, X_test, y_train, y_test  = train_test_split(X,y, random_state=0)\n",
    "\n",
    "\n",
    "model = LinearRegression()\n",
    "model.fit(X_train, y_train)\n",
    "\n",
    "prediction  = model.predict(X_test)\n",
    "\n",
    "print('Accuracy of logistic regression classifier on test set: {:.2f}'.format(model.score(X_test, y_test)))"
   ]
  },
  {
   "cell_type": "code",
   "execution_count": 34,
   "metadata": {},
   "outputs": [
    {
     "name": "stdout",
     "output_type": "stream",
     "text": [
      "(12, 15)\n",
      "(12, 3)\n",
      "[[-9.90934037e+00  2.66688948e+01  1.09686362e+01 -1.00000000e+18\n",
      "  -1.00000000e+18 -1.00000000e+18 -1.00000000e+18 -1.00000000e+18\n",
      "  -1.00000000e+18 -1.00000000e+18 -1.00000000e+18 -1.00000000e+18\n",
      "  -1.00000000e+18 -1.00000000e+18 -1.00000000e+18]\n",
      " [-2.57520008e+01  2.88540001e+01  8.54800034e+00 -1.00000000e+18\n",
      "  -1.00000000e+18 -1.00000000e+18 -1.00000000e+18 -1.00000000e+18\n",
      "  -1.00000000e+18 -1.00000000e+18 -1.00000000e+18 -1.00000000e+18\n",
      "  -1.00000000e+18 -1.00000000e+18 -1.00000000e+18]\n",
      " [-5.94777826e+00  2.61793976e+01  2.15013002e+01 -1.00000000e+18\n",
      "  -1.00000000e+18 -1.00000000e+18 -1.00000000e+18 -1.00000000e+18\n",
      "  -1.00000000e+18 -1.00000000e+18 -1.00000000e+18 -1.00000000e+18\n",
      "  -1.00000000e+18 -1.00000000e+18 -1.00000000e+18]]\n",
      "Accuracy of logistic regression classifier on test set: 0.88\n"
     ]
    },
    {
     "name": "stderr",
     "output_type": "stream",
     "text": [
      "C:\\Users\\Bee\\AppData\\Local\\Temp\\ipykernel_15664\\1102522726.py:19: SettingWithCopyWarning: \n",
      "A value is trying to be set on a copy of a slice from a DataFrame\n",
      "\n",
      "See the caveats in the documentation: https://pandas.pydata.org/pandas-docs/stable/user_guide/indexing.html#returning-a-view-versus-a-copy\n",
      "  X.fillna(0, inplace=True)\n",
      "C:\\Users\\Bee\\AppData\\Local\\Temp\\ipykernel_15664\\1102522726.py:20: SettingWithCopyWarning: \n",
      "A value is trying to be set on a copy of a slice from a DataFrame\n",
      "\n",
      "See the caveats in the documentation: https://pandas.pydata.org/pandas-docs/stable/user_guide/indexing.html#returning-a-view-versus-a-copy\n",
      "  y.fillna(0, inplace=True)\n",
      "C:\\Users\\Bee\\AppData\\Local\\Temp\\ipykernel_15664\\1102522726.py:27: SettingWithCopyWarning: \n",
      "A value is trying to be set on a copy of a slice from a DataFrame.\n",
      "Try using .loc[row_indexer,col_indexer] = value instead\n",
      "\n",
      "See the caveats in the documentation: https://pandas.pydata.org/pandas-docs/stable/user_guide/indexing.html#returning-a-view-versus-a-copy\n",
      "  X['temporal_cutoff'] = X['temporal_cutoff'].apply(convert_date_to_numeric)\n"
     ]
    }
   ],
   "source": [
    "test_seq[\"encoded_seq\"] = test_seq[\"sequence\"].apply(clean_and_encode_sequence)\n",
    "val_labels[\"target_base\"] = val_labels[\"ID\"].apply(lambda x: \"_\".join(x.split(\"_\")[:2]))\n",
    "val_labels = val_labels.iloc[:12]\n",
    "\n",
    "merged_data = test_seq.merge(\n",
    "    val_labels, left_on=\"target_id\", right_on=\"target_base\"\n",
    ")\n",
    "\n",
    "#merged_data.drop(columns=[\"target_base\"], inplace=True)\n",
    "\n",
    "merged_data.head()\n",
    "\n",
    "X = test_seq[['encoded_seq','temporal_cutoff','description']]\n",
    "y = val_labels[['x_1', 'y_1', 'z_1', 'x_2', 'y_2', 'z_2', 'x_3', 'y_3', 'z_3', 'x_4', 'y_4', 'z_4', 'x_5', 'y_5', 'z_5']]\n",
    "\n",
    "print(y.shape)\n",
    "print(X.shape)\n",
    "\n",
    "X.fillna(0, inplace=True)\n",
    "y.fillna(0, inplace=True)\n",
    "\n",
    "def convert_date_to_numeric(date_str):\n",
    "    \"\"\"Convert date string to numerical timestamp.\"\"\"\n",
    "    return datetime.strptime(date_str, \"%Y-%m-%d\").timestamp()\n",
    "\n",
    "# Convert `temporal_cutoff` to numerical values\n",
    "X['temporal_cutoff'] = X['temporal_cutoff'].apply(convert_date_to_numeric)\n",
    "# Convert sequences into a fixed-length numerical representation\n",
    "max_seq_length = max(X['encoded_seq'].apply(len))  # Find longest sequence\n",
    "X = pad_sequences(X['encoded_seq'], maxlen=max_seq_length, padding='post', dtype='int32')\n",
    "\n",
    "\n",
    "X_train, X_test, y_train, y_test  = train_test_split(X,y, random_state=0)\n",
    "\n",
    "\n",
    "model = LinearRegression()\n",
    "model.fit(X_train, y_train)\n",
    "\n",
    "prediction  = model.predict(X_test)\n",
    "\n",
    "print(prediction)\n",
    "\n",
    "print('Accuracy of logistic regression classifier on test set: {:.2f}'.format(model.score(X_test, y_test))) \n",
    "\n",
    "# Create a submission file\n",
    "submission = pd.DataFrame(prediction, columns=['x_1', 'y_1', 'z_1', 'x_2', 'y_2', 'z_2', 'x_3', 'y_3', 'z_3', 'x_4', 'y_4', 'z_4', 'x_5', 'y_5', 'z_5'])\n",
    "submission.insert(0, 'ID', test_seq['target_id'])  # Add 'ID' column\n",
    "submission.insert(1, 'resname', val_labels['resname'])  # Add 'resname' column\n",
    "submission.insert(2, 'resid', val_labels['resid'])  # Add 'resid' column\n",
    "submission.to_csv('submission.csv', index=False)  # Save with 'ID' as the index label\n",
    "\n",
    "\n"
   ]
  },
  {
   "cell_type": "code",
   "execution_count": null,
   "metadata": {},
   "outputs": [],
   "source": [
    " "
   ]
  },
  {
   "cell_type": "code",
   "execution_count": null,
   "metadata": {},
   "outputs": [],
   "source": []
  }
 ],
 "metadata": {
  "kernelspec": {
   "display_name": ".venv",
   "language": "python",
   "name": "python3"
  },
  "language_info": {
   "codemirror_mode": {
    "name": "ipython",
    "version": 3
   },
   "file_extension": ".py",
   "mimetype": "text/x-python",
   "name": "python",
   "nbconvert_exporter": "python",
   "pygments_lexer": "ipython3",
   "version": "3.11.0"
  }
 },
 "nbformat": 4,
 "nbformat_minor": 2
}
