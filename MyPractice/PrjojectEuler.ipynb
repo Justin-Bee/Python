{
 "cells": [
  {
   "cell_type": "code",
   "execution_count": null,
   "metadata": {},
   "outputs": [
    {
     "name": "stdout",
     "output_type": "stream",
     "text": [
      "233168\n"
     ]
    }
   ],
   "source": [
    "#ID 1\n",
    "t = 1000\n",
    "sum = 0\n",
    "for num in range(t):\n",
    "    if num % 3 ==0:\n",
    "        sum += num\n",
    "    elif num % 5 == 0:\n",
    "        sum += num\n",
    "\n",
    "print(sum)"
   ]
  },
  {
   "cell_type": "code",
   "execution_count": null,
   "metadata": {},
   "outputs": [
    {
     "name": "stdout",
     "output_type": "stream",
     "text": [
      "4613732\n"
     ]
    }
   ],
   "source": [
    "#ID 2\n",
    "#sum of even fibonacci numbers to 4 milli\n",
    "t = 4000000\n",
    "sum = 0\n",
    "a = 1\n",
    "b = 2\n",
    "while b < t:\n",
    "    if b % 2 == 0:\n",
    "        sum += b\n",
    "    a, b = b, a + b\n",
    "\n",
    "print(sum)        "
   ]
  },
  {
   "cell_type": "code",
   "execution_count": null,
   "metadata": {},
   "outputs": [],
   "source": []
  }
 ],
 "metadata": {
  "kernelspec": {
   "display_name": "Python 3",
   "language": "python",
   "name": "python3"
  },
  "language_info": {
   "codemirror_mode": {
    "name": "ipython",
    "version": 3
   },
   "file_extension": ".py",
   "mimetype": "text/x-python",
   "name": "python",
   "nbconvert_exporter": "python",
   "pygments_lexer": "ipython3",
   "version": "3.13.2"
  }
 },
 "nbformat": 4,
 "nbformat_minor": 2
}
